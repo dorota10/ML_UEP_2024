{
 "cells": [
  {
   "cell_type": "markdown",
   "metadata": {},
   "source": [
    "### Case Study 1"
   ]
  },
  {
   "cell_type": "markdown",
   "metadata": {},
   "source": [
    "[Kaggle - dataset description](https://www.kaggle.com/datasets/vagifa/ethereum-frauddetection-dataset)"
   ]
  },
  {
   "cell_type": "code",
   "execution_count": 728,
   "metadata": {},
   "outputs": [],
   "source": [
    "import pandas as pd\n",
    "import numpy as np\n",
    "import seaborn as sns\n",
    "import matplotlib.pyplot as plt\n",
    "from sklearn.preprocessing import StandardScaler\n",
    "import plotly.express as px\n",
    "from sklearn.model_selection import train_test_split\n",
    "from sklearn.model_selection import cross_val_score, RepeatedStratifiedKFold\n",
    "from sklearn.metrics import classification_report\n",
    "from imblearn.under_sampling import RandomUnderSampler\n",
    "from imblearn.over_sampling import SMOTE\n",
    "from sklearn.neighbors import KNeighborsClassifier\n",
    "from sklearn.ensemble import RandomForestClassifier\n",
    "from sklearn.linear_model import LogisticRegression\n",
    "from sklearn.svm import SVC\n",
    "import time\n",
    "import xgboost as xgb\n",
    "from sklearn.metrics import confusion_matrix\n",
    "from sklearn.impute import KNNImputer\n",
    "from sklearn.decomposition import PCA"
   ]
  },
  {
   "cell_type": "code",
   "execution_count": 729,
   "metadata": {},
   "outputs": [],
   "source": [
    "#Funkcja do wizualizacji macierzy pomyłek i oceny modelu\n",
    "def cm_results(y_test, y_pred):\n",
    "    cm = confusion_matrix(y_test, y_pred)\n",
    "    class_names = ['not fraud', 'fraud']\n",
    "    plt.figure(figsize=(8, 6))\n",
    "    sns.set(font_scale=1.2)\n",
    "    sns.heatmap(cm, annot=True, fmt=\"d\", cmap=\"Blues\", xticklabels=class_names, yticklabels=class_names)\n",
    "    plt.xlabel('Predicted')\n",
    "    plt.ylabel('Real')\n",
    "    plt.show()\n",
    "\n",
    "    class_rep=classification_report(y_test, y_pred)\n",
    "    print(class_rep)"
   ]
  },
  {
   "cell_type": "code",
   "execution_count": 730,
   "metadata": {},
   "outputs": [],
   "source": [
    "dane=pd.read_csv(\"../datasets/case1.csv\", delimiter=\";\")\n",
    "dane=dane.drop(columns=[\"Unnamed: 0\", \"Index\", \"Address\"])\n",
    "y_data=dane[[\"FLAG\"]]\n",
    "X_data=dane.drop(columns=\"FLAG\")"
   ]
  },
  {
   "cell_type": "code",
   "execution_count": 731,
   "metadata": {},
   "outputs": [
    {
     "data": {
      "text/html": [
       "<div>\n",
       "<style scoped>\n",
       "    .dataframe tbody tr th:only-of-type {\n",
       "        vertical-align: middle;\n",
       "    }\n",
       "\n",
       "    .dataframe tbody tr th {\n",
       "        vertical-align: top;\n",
       "    }\n",
       "\n",
       "    .dataframe thead th {\n",
       "        text-align: right;\n",
       "    }\n",
       "</style>\n",
       "<table border=\"1\" class=\"dataframe\">\n",
       "  <thead>\n",
       "    <tr style=\"text-align: right;\">\n",
       "      <th></th>\n",
       "      <th>Avg min between sent tnx</th>\n",
       "      <th>Avg min between received tnx</th>\n",
       "      <th>Time Diff between first and last (Mins)</th>\n",
       "      <th>Sent tnx</th>\n",
       "      <th>Received Tnx</th>\n",
       "      <th>Number of Created Contracts</th>\n",
       "      <th>Unique Received From Addresses</th>\n",
       "      <th>Unique Sent To Addresses</th>\n",
       "      <th>min value received</th>\n",
       "      <th>max value received</th>\n",
       "      <th>...</th>\n",
       "      <th>ERC20 min val sent</th>\n",
       "      <th>ERC20 max val sent</th>\n",
       "      <th>ERC20 avg val sent</th>\n",
       "      <th>ERC20 min val sent contract</th>\n",
       "      <th>ERC20 max val sent contract</th>\n",
       "      <th>ERC20 avg val sent contract</th>\n",
       "      <th>ERC20 uniq sent token name</th>\n",
       "      <th>ERC20 uniq rec token name</th>\n",
       "      <th>ERC20 most sent token type</th>\n",
       "      <th>ERC20_most_rec_token_type</th>\n",
       "    </tr>\n",
       "  </thead>\n",
       "  <tbody>\n",
       "    <tr>\n",
       "      <th>0</th>\n",
       "      <td>844.26</td>\n",
       "      <td>1093.71</td>\n",
       "      <td>704785.63</td>\n",
       "      <td>721</td>\n",
       "      <td>89</td>\n",
       "      <td>0</td>\n",
       "      <td>40</td>\n",
       "      <td>118</td>\n",
       "      <td>0.000000</td>\n",
       "      <td>45.806785</td>\n",
       "      <td>...</td>\n",
       "      <td>0.000000</td>\n",
       "      <td>1.683100e+07</td>\n",
       "      <td>271779.920000</td>\n",
       "      <td>0.0</td>\n",
       "      <td>0.0</td>\n",
       "      <td>0.0</td>\n",
       "      <td>39.0</td>\n",
       "      <td>57.0</td>\n",
       "      <td>Cofoundit</td>\n",
       "      <td>Numeraire</td>\n",
       "    </tr>\n",
       "    <tr>\n",
       "      <th>1</th>\n",
       "      <td>12709.07</td>\n",
       "      <td>2958.44</td>\n",
       "      <td>1218216.73</td>\n",
       "      <td>94</td>\n",
       "      <td>8</td>\n",
       "      <td>0</td>\n",
       "      <td>5</td>\n",
       "      <td>14</td>\n",
       "      <td>0.000000</td>\n",
       "      <td>2.613269</td>\n",
       "      <td>...</td>\n",
       "      <td>2.260809</td>\n",
       "      <td>2.260809e+00</td>\n",
       "      <td>2.260809</td>\n",
       "      <td>0.0</td>\n",
       "      <td>0.0</td>\n",
       "      <td>0.0</td>\n",
       "      <td>1.0</td>\n",
       "      <td>7.0</td>\n",
       "      <td>Livepeer Token</td>\n",
       "      <td>Livepeer Token</td>\n",
       "    </tr>\n",
       "    <tr>\n",
       "      <th>2</th>\n",
       "      <td>246194.54</td>\n",
       "      <td>2434.02</td>\n",
       "      <td>516729.30</td>\n",
       "      <td>2</td>\n",
       "      <td>10</td>\n",
       "      <td>0</td>\n",
       "      <td>10</td>\n",
       "      <td>2</td>\n",
       "      <td>0.113119</td>\n",
       "      <td>1.165453</td>\n",
       "      <td>...</td>\n",
       "      <td>0.000000</td>\n",
       "      <td>0.000000e+00</td>\n",
       "      <td>0.000000</td>\n",
       "      <td>0.0</td>\n",
       "      <td>0.0</td>\n",
       "      <td>0.0</td>\n",
       "      <td>0.0</td>\n",
       "      <td>8.0</td>\n",
       "      <td>NaN</td>\n",
       "      <td>XENON</td>\n",
       "    </tr>\n",
       "    <tr>\n",
       "      <th>3</th>\n",
       "      <td>10219.60</td>\n",
       "      <td>15785.09</td>\n",
       "      <td>397555.90</td>\n",
       "      <td>25</td>\n",
       "      <td>9</td>\n",
       "      <td>0</td>\n",
       "      <td>7</td>\n",
       "      <td>13</td>\n",
       "      <td>0.000000</td>\n",
       "      <td>500.000000</td>\n",
       "      <td>...</td>\n",
       "      <td>100.000000</td>\n",
       "      <td>9.029231e+03</td>\n",
       "      <td>3804.076893</td>\n",
       "      <td>0.0</td>\n",
       "      <td>0.0</td>\n",
       "      <td>0.0</td>\n",
       "      <td>1.0</td>\n",
       "      <td>11.0</td>\n",
       "      <td>Raiden</td>\n",
       "      <td>XENON</td>\n",
       "    </tr>\n",
       "    <tr>\n",
       "      <th>4</th>\n",
       "      <td>36.61</td>\n",
       "      <td>10707.77</td>\n",
       "      <td>382472.42</td>\n",
       "      <td>4598</td>\n",
       "      <td>20</td>\n",
       "      <td>1</td>\n",
       "      <td>7</td>\n",
       "      <td>19</td>\n",
       "      <td>0.000000</td>\n",
       "      <td>12.802411</td>\n",
       "      <td>...</td>\n",
       "      <td>0.000000</td>\n",
       "      <td>4.500000e+04</td>\n",
       "      <td>13726.659220</td>\n",
       "      <td>0.0</td>\n",
       "      <td>0.0</td>\n",
       "      <td>0.0</td>\n",
       "      <td>6.0</td>\n",
       "      <td>27.0</td>\n",
       "      <td>StatusNetwork</td>\n",
       "      <td>EOS</td>\n",
       "    </tr>\n",
       "    <tr>\n",
       "      <th>...</th>\n",
       "      <td>...</td>\n",
       "      <td>...</td>\n",
       "      <td>...</td>\n",
       "      <td>...</td>\n",
       "      <td>...</td>\n",
       "      <td>...</td>\n",
       "      <td>...</td>\n",
       "      <td>...</td>\n",
       "      <td>...</td>\n",
       "      <td>...</td>\n",
       "      <td>...</td>\n",
       "      <td>...</td>\n",
       "      <td>...</td>\n",
       "      <td>...</td>\n",
       "      <td>...</td>\n",
       "      <td>...</td>\n",
       "      <td>...</td>\n",
       "      <td>...</td>\n",
       "      <td>...</td>\n",
       "      <td>...</td>\n",
       "      <td>...</td>\n",
       "    </tr>\n",
       "    <tr>\n",
       "      <th>9836</th>\n",
       "      <td>12635.10</td>\n",
       "      <td>631.39</td>\n",
       "      <td>58748.48</td>\n",
       "      <td>4</td>\n",
       "      <td>13</td>\n",
       "      <td>0</td>\n",
       "      <td>11</td>\n",
       "      <td>4</td>\n",
       "      <td>0.004082</td>\n",
       "      <td>12.000000</td>\n",
       "      <td>...</td>\n",
       "      <td>0.000000</td>\n",
       "      <td>0.000000e+00</td>\n",
       "      <td>0.000000</td>\n",
       "      <td>0.0</td>\n",
       "      <td>0.0</td>\n",
       "      <td>0.0</td>\n",
       "      <td>0.0</td>\n",
       "      <td>2.0</td>\n",
       "      <td></td>\n",
       "      <td>GSENetwork</td>\n",
       "    </tr>\n",
       "    <tr>\n",
       "      <th>9837</th>\n",
       "      <td>0.00</td>\n",
       "      <td>0.00</td>\n",
       "      <td>0.00</td>\n",
       "      <td>0</td>\n",
       "      <td>0</td>\n",
       "      <td>0</td>\n",
       "      <td>0</td>\n",
       "      <td>0</td>\n",
       "      <td>0.000000</td>\n",
       "      <td>0.000000</td>\n",
       "      <td>...</td>\n",
       "      <td>0.000000</td>\n",
       "      <td>0.000000e+00</td>\n",
       "      <td>0.000000</td>\n",
       "      <td>0.0</td>\n",
       "      <td>0.0</td>\n",
       "      <td>0.0</td>\n",
       "      <td>0.0</td>\n",
       "      <td>1.0</td>\n",
       "      <td></td>\n",
       "      <td>Blockwell say NOTSAFU</td>\n",
       "    </tr>\n",
       "    <tr>\n",
       "      <th>9838</th>\n",
       "      <td>2499.44</td>\n",
       "      <td>2189.29</td>\n",
       "      <td>261601.88</td>\n",
       "      <td>67</td>\n",
       "      <td>43</td>\n",
       "      <td>0</td>\n",
       "      <td>31</td>\n",
       "      <td>44</td>\n",
       "      <td>0.001078</td>\n",
       "      <td>21.310000</td>\n",
       "      <td>...</td>\n",
       "      <td>0.000000</td>\n",
       "      <td>0.000000e+00</td>\n",
       "      <td>0.000000</td>\n",
       "      <td>0.0</td>\n",
       "      <td>0.0</td>\n",
       "      <td>0.0</td>\n",
       "      <td>0.0</td>\n",
       "      <td>5.0</td>\n",
       "      <td></td>\n",
       "      <td>Free BOB Tokens - BobsRepair.com</td>\n",
       "    </tr>\n",
       "    <tr>\n",
       "      <th>9839</th>\n",
       "      <td>0.00</td>\n",
       "      <td>0.00</td>\n",
       "      <td>0.00</td>\n",
       "      <td>0</td>\n",
       "      <td>1</td>\n",
       "      <td>0</td>\n",
       "      <td>1</td>\n",
       "      <td>0</td>\n",
       "      <td>0.500000</td>\n",
       "      <td>0.500000</td>\n",
       "      <td>...</td>\n",
       "      <td>NaN</td>\n",
       "      <td>NaN</td>\n",
       "      <td>NaN</td>\n",
       "      <td>NaN</td>\n",
       "      <td>NaN</td>\n",
       "      <td>NaN</td>\n",
       "      <td>NaN</td>\n",
       "      <td>NaN</td>\n",
       "      <td>NaN</td>\n",
       "      <td>NaN</td>\n",
       "    </tr>\n",
       "    <tr>\n",
       "      <th>9840</th>\n",
       "      <td>37242.70</td>\n",
       "      <td>149.56</td>\n",
       "      <td>670817.33</td>\n",
       "      <td>18</td>\n",
       "      <td>3</td>\n",
       "      <td>0</td>\n",
       "      <td>1</td>\n",
       "      <td>5</td>\n",
       "      <td>0.795233</td>\n",
       "      <td>18998.000000</td>\n",
       "      <td>...</td>\n",
       "      <td>0.000000</td>\n",
       "      <td>0.000000e+00</td>\n",
       "      <td>0.000000</td>\n",
       "      <td>0.0</td>\n",
       "      <td>0.0</td>\n",
       "      <td>0.0</td>\n",
       "      <td>0.0</td>\n",
       "      <td>42.0</td>\n",
       "      <td></td>\n",
       "      <td>INS Promo1</td>\n",
       "    </tr>\n",
       "  </tbody>\n",
       "</table>\n",
       "<p>9841 rows × 47 columns</p>\n",
       "</div>"
      ],
      "text/plain": [
       "      Avg min between sent tnx  Avg min between received tnx  \\\n",
       "0                       844.26                       1093.71   \n",
       "1                     12709.07                       2958.44   \n",
       "2                    246194.54                       2434.02   \n",
       "3                     10219.60                      15785.09   \n",
       "4                        36.61                      10707.77   \n",
       "...                        ...                           ...   \n",
       "9836                  12635.10                        631.39   \n",
       "9837                      0.00                          0.00   \n",
       "9838                   2499.44                       2189.29   \n",
       "9839                      0.00                          0.00   \n",
       "9840                  37242.70                        149.56   \n",
       "\n",
       "      Time Diff between first and last (Mins)  Sent tnx  Received Tnx  \\\n",
       "0                                   704785.63       721            89   \n",
       "1                                  1218216.73        94             8   \n",
       "2                                   516729.30         2            10   \n",
       "3                                   397555.90        25             9   \n",
       "4                                   382472.42      4598            20   \n",
       "...                                       ...       ...           ...   \n",
       "9836                                 58748.48         4            13   \n",
       "9837                                     0.00         0             0   \n",
       "9838                                261601.88        67            43   \n",
       "9839                                     0.00         0             1   \n",
       "9840                                670817.33        18             3   \n",
       "\n",
       "      Number of Created Contracts  Unique Received From Addresses  \\\n",
       "0                               0                              40   \n",
       "1                               0                               5   \n",
       "2                               0                              10   \n",
       "3                               0                               7   \n",
       "4                               1                               7   \n",
       "...                           ...                             ...   \n",
       "9836                            0                              11   \n",
       "9837                            0                               0   \n",
       "9838                            0                              31   \n",
       "9839                            0                               1   \n",
       "9840                            0                               1   \n",
       "\n",
       "      Unique Sent To Addresses  min value received  max value received   ...  \\\n",
       "0                          118            0.000000            45.806785  ...   \n",
       "1                           14            0.000000             2.613269  ...   \n",
       "2                            2            0.113119             1.165453  ...   \n",
       "3                           13            0.000000           500.000000  ...   \n",
       "4                           19            0.000000            12.802411  ...   \n",
       "...                        ...                 ...                  ...  ...   \n",
       "9836                         4            0.004082            12.000000  ...   \n",
       "9837                         0            0.000000             0.000000  ...   \n",
       "9838                        44            0.001078            21.310000  ...   \n",
       "9839                         0            0.500000             0.500000  ...   \n",
       "9840                         5            0.795233         18998.000000  ...   \n",
       "\n",
       "      ERC20 min val sent  ERC20 max val sent  ERC20 avg val sent  \\\n",
       "0               0.000000        1.683100e+07       271779.920000   \n",
       "1               2.260809        2.260809e+00            2.260809   \n",
       "2               0.000000        0.000000e+00            0.000000   \n",
       "3             100.000000        9.029231e+03         3804.076893   \n",
       "4               0.000000        4.500000e+04        13726.659220   \n",
       "...                  ...                 ...                 ...   \n",
       "9836            0.000000        0.000000e+00            0.000000   \n",
       "9837            0.000000        0.000000e+00            0.000000   \n",
       "9838            0.000000        0.000000e+00            0.000000   \n",
       "9839                 NaN                 NaN                 NaN   \n",
       "9840            0.000000        0.000000e+00            0.000000   \n",
       "\n",
       "      ERC20 min val sent contract  ERC20 max val sent contract  \\\n",
       "0                             0.0                          0.0   \n",
       "1                             0.0                          0.0   \n",
       "2                             0.0                          0.0   \n",
       "3                             0.0                          0.0   \n",
       "4                             0.0                          0.0   \n",
       "...                           ...                          ...   \n",
       "9836                          0.0                          0.0   \n",
       "9837                          0.0                          0.0   \n",
       "9838                          0.0                          0.0   \n",
       "9839                          NaN                          NaN   \n",
       "9840                          0.0                          0.0   \n",
       "\n",
       "      ERC20 avg val sent contract  ERC20 uniq sent token name  \\\n",
       "0                             0.0                        39.0   \n",
       "1                             0.0                         1.0   \n",
       "2                             0.0                         0.0   \n",
       "3                             0.0                         1.0   \n",
       "4                             0.0                         6.0   \n",
       "...                           ...                         ...   \n",
       "9836                          0.0                         0.0   \n",
       "9837                          0.0                         0.0   \n",
       "9838                          0.0                         0.0   \n",
       "9839                          NaN                         NaN   \n",
       "9840                          0.0                         0.0   \n",
       "\n",
       "      ERC20 uniq rec token name  ERC20 most sent token type  \\\n",
       "0                          57.0                   Cofoundit   \n",
       "1                           7.0              Livepeer Token   \n",
       "2                           8.0                         NaN   \n",
       "3                          11.0                      Raiden   \n",
       "4                          27.0               StatusNetwork   \n",
       "...                         ...                         ...   \n",
       "9836                        2.0                               \n",
       "9837                        1.0                               \n",
       "9838                        5.0                               \n",
       "9839                        NaN                         NaN   \n",
       "9840                       42.0                               \n",
       "\n",
       "             ERC20_most_rec_token_type  \n",
       "0                            Numeraire  \n",
       "1                       Livepeer Token  \n",
       "2                                XENON  \n",
       "3                                XENON  \n",
       "4                                  EOS  \n",
       "...                                ...  \n",
       "9836                        GSENetwork  \n",
       "9837             Blockwell say NOTSAFU  \n",
       "9838  Free BOB Tokens - BobsRepair.com  \n",
       "9839                               NaN  \n",
       "9840                        INS Promo1  \n",
       "\n",
       "[9841 rows x 47 columns]"
      ]
     },
     "execution_count": 731,
     "metadata": {},
     "output_type": "execute_result"
    }
   ],
   "source": [
    "X_data"
   ]
  },
  {
   "cell_type": "code",
   "execution_count": 732,
   "metadata": {},
   "outputs": [
    {
     "data": {
      "text/plain": [
       "FLAG\n",
       "0       0.778579\n",
       "1       0.221421\n",
       "Name: count, dtype: float64"
      ]
     },
     "execution_count": 732,
     "metadata": {},
     "output_type": "execute_result"
    }
   ],
   "source": [
    "y_data.value_counts()/y_data.value_counts().sum()"
   ]
  },
  {
   "cell_type": "markdown",
   "metadata": {},
   "source": [
    "### Przygotowanie danych"
   ]
  },
  {
   "cell_type": "code",
   "execution_count": 733,
   "metadata": {},
   "outputs": [],
   "source": [
    "X_train, X_test, y_train, y_test = train_test_split(X_data, y_data, test_size=0.2, random_state=42)"
   ]
  },
  {
   "cell_type": "code",
   "execution_count": 734,
   "metadata": {},
   "outputs": [],
   "source": [
    "y_train=y_train.reset_index(drop=True)\n",
    "y_test=y_test.reset_index(drop=True)\n",
    "X_train=X_train.reset_index(drop=True)"
   ]
  },
  {
   "cell_type": "code",
   "execution_count": 735,
   "metadata": {},
   "outputs": [],
   "source": [
    "#oddzielenie danych numerycznych od tekstowych\n",
    "X_train_num=X_train.iloc[:,:-2]\n",
    "X_train_text=X_train.iloc[:, -2:]\n",
    "\n",
    "X_test_num=X_test.iloc[:,:-2]\n",
    "X_test_text=X_test.iloc[:, -2:]"
   ]
  },
  {
   "cell_type": "markdown",
   "metadata": {},
   "source": [
    "#### Text processing"
   ]
  },
  {
   "cell_type": "code",
   "execution_count": 737,
   "metadata": {},
   "outputs": [],
   "source": [
    "#Zamiana wszystkich brakujących wartości na \"None\"\n",
    "X_train_text.replace([\"0\", 0, \"\", \" \", np.nan], \"None\", inplace=True)\n",
    "X_test_text.replace([\"0\", 0,  \"\", \" \", np.nan], \"None\", inplace=True)"
   ]
  },
  {
   "cell_type": "code",
   "execution_count": 738,
   "metadata": {},
   "outputs": [
    {
     "data": {
      "text/plain": [
       "0.5356961382113821"
      ]
     },
     "execution_count": 738,
     "metadata": {},
     "output_type": "execute_result"
    }
   ],
   "source": [
    "#Braki w kolumnie 'ERC20_most_rec_token_type'\n",
    "X_train_text.iloc[:, -1].str.contains('None').sum()/X_train_text.shape[0]"
   ]
  },
  {
   "cell_type": "markdown",
   "metadata": {},
   "source": [
    "Prawie 54% danych w kolumnie 'ERC20_most_rec_token_type' to wartości brakujące."
   ]
  },
  {
   "cell_type": "markdown",
   "metadata": {},
   "source": [
    "Pokażemy rozkład liczby występowania poszczególnych typów tokenów ze względu na klasę."
   ]
  },
  {
   "cell_type": "code",
   "execution_count": 739,
   "metadata": {},
   "outputs": [],
   "source": [
    "data_0 = X_train_text[y_train['FLAG']==0]['ERC20_most_rec_token_type']\n",
    "data_1 = X_train_text[y_train['FLAG']==1]['ERC20_most_rec_token_type']"
   ]
  },
  {
   "cell_type": "code",
   "execution_count": 740,
   "metadata": {},
   "outputs": [],
   "source": [
    "word_freq_0 = data_0.str.split(expand=True).stack().value_counts()\n",
    "word_freq_1 = data_1.str.split(expand=True).stack().value_counts()\n",
    "word_freq_sum = X_train_text['ERC20_most_rec_token_type'].str.split(expand=True).stack().value_counts()\n",
    "\n",
    "word_freq_df = pd.DataFrame({'not_fraud_prob_rec': word_freq_0/data_0.shape[0], 'fraud_prob_rec': word_freq_1/data_1.shape[0], 'fraud_per_occurence_rec': word_freq_1/word_freq_sum}).fillna(0)\n",
    "\n",
    "word_freq_df = word_freq_df.sort_values(by='not_fraud_prob_rec', ascending=False)\n",
    "\n",
    "top_20_words = word_freq_df.head(20)\n",
    "data=top_20_words.reset_index()"
   ]
  },
  {
   "cell_type": "code",
   "execution_count": 741,
   "metadata": {},
   "outputs": [
    {
     "data": {
      "text/html": [
       "<div>\n",
       "<style scoped>\n",
       "    .dataframe tbody tr th:only-of-type {\n",
       "        vertical-align: middle;\n",
       "    }\n",
       "\n",
       "    .dataframe tbody tr th {\n",
       "        vertical-align: top;\n",
       "    }\n",
       "\n",
       "    .dataframe thead th {\n",
       "        text-align: right;\n",
       "    }\n",
       "</style>\n",
       "<table border=\"1\" class=\"dataframe\">\n",
       "  <thead>\n",
       "    <tr style=\"text-align: right;\">\n",
       "      <th></th>\n",
       "      <th>not_fraud_prob_rec</th>\n",
       "      <th>fraud_prob_rec</th>\n",
       "      <th>fraud_per_occurence_rec</th>\n",
       "    </tr>\n",
       "  </thead>\n",
       "  <tbody>\n",
       "    <tr>\n",
       "      <th>None</th>\n",
       "      <td>0.578595</td>\n",
       "      <td>0.385845</td>\n",
       "      <td>0.160304</td>\n",
       "    </tr>\n",
       "    <tr>\n",
       "      <th>OmiseGO</th>\n",
       "      <td>0.111438</td>\n",
       "      <td>0.006279</td>\n",
       "      <td>0.015873</td>\n",
       "    </tr>\n",
       "    <tr>\n",
       "      <th>DATAcoin</th>\n",
       "      <td>0.045915</td>\n",
       "      <td>0.003995</td>\n",
       "      <td>0.024306</td>\n",
       "    </tr>\n",
       "    <tr>\n",
       "      <th>Token</th>\n",
       "      <td>0.045588</td>\n",
       "      <td>0.050228</td>\n",
       "      <td>0.239782</td>\n",
       "    </tr>\n",
       "    <tr>\n",
       "      <th>EOS</th>\n",
       "      <td>0.022059</td>\n",
       "      <td>0.001142</td>\n",
       "      <td>0.014599</td>\n",
       "    </tr>\n",
       "    <tr>\n",
       "      <th>...</th>\n",
       "      <td>...</td>\n",
       "      <td>...</td>\n",
       "      <td>...</td>\n",
       "    </tr>\n",
       "    <tr>\n",
       "      <th>Gaming</th>\n",
       "      <td>0.000000</td>\n",
       "      <td>0.000571</td>\n",
       "      <td>1.000000</td>\n",
       "    </tr>\n",
       "    <tr>\n",
       "      <th>ArtisTurba</th>\n",
       "      <td>0.000000</td>\n",
       "      <td>0.000571</td>\n",
       "      <td>1.000000</td>\n",
       "    </tr>\n",
       "    <tr>\n",
       "      <th>ROOMDAO</th>\n",
       "      <td>0.000000</td>\n",
       "      <td>0.000571</td>\n",
       "      <td>1.000000</td>\n",
       "    </tr>\n",
       "    <tr>\n",
       "      <th>Rebellious</th>\n",
       "      <td>0.000000</td>\n",
       "      <td>0.000571</td>\n",
       "      <td>1.000000</td>\n",
       "    </tr>\n",
       "    <tr>\n",
       "      <th>OPTin</th>\n",
       "      <td>0.000000</td>\n",
       "      <td>0.000571</td>\n",
       "      <td>1.000000</td>\n",
       "    </tr>\n",
       "  </tbody>\n",
       "</table>\n",
       "<p>478 rows × 3 columns</p>\n",
       "</div>"
      ],
      "text/plain": [
       "            not_fraud_prob_rec  fraud_prob_rec  fraud_per_occurence_rec\n",
       "None                  0.578595        0.385845                 0.160304\n",
       "OmiseGO               0.111438        0.006279                 0.015873\n",
       "DATAcoin              0.045915        0.003995                 0.024306\n",
       "Token                 0.045588        0.050228                 0.239782\n",
       "EOS                   0.022059        0.001142                 0.014599\n",
       "...                        ...             ...                      ...\n",
       "Gaming                0.000000        0.000571                 1.000000\n",
       "ArtisTurba            0.000000        0.000571                 1.000000\n",
       "ROOMDAO               0.000000        0.000571                 1.000000\n",
       "Rebellious            0.000000        0.000571                 1.000000\n",
       "OPTin                 0.000000        0.000571                 1.000000\n",
       "\n",
       "[478 rows x 3 columns]"
      ]
     },
     "execution_count": 741,
     "metadata": {},
     "output_type": "execute_result"
    }
   ],
   "source": [
    "word_freq_df "
   ]
  },
  {
   "cell_type": "code",
   "execution_count": 742,
   "metadata": {},
   "outputs": [],
   "source": [
    "transformed_df = pd.melt(data, id_vars=['index'], var_name='is_fraud', value_name='value')\n",
    "transformed_df['is_fraud'] = transformed_df['is_fraud'].map({'not_fraud_prob_rec': 0, 'fraud_prob_rec': 1})"
   ]
  },
  {
   "cell_type": "code",
   "execution_count": 743,
   "metadata": {},
   "outputs": [
    {
     "data": {
      "text/plain": [
       "Text(0.5, 1.0, 'ERC20_most_rec_token_type')"
      ]
     },
     "execution_count": 743,
     "metadata": {},
     "output_type": "execute_result"
    },
    {
     "data": {
      "image/png": "[encoded data removed]",
      "text/plain": [
       "<Figure size 720x432 with 1 Axes>"
      ]
     },
     "metadata": {},
     "output_type": "display_data"
    }
   ],
   "source": [
    "plt.figure(figsize=(10, 6))\n",
    "sns.barplot(data=transformed_df, y='index', x='value', hue='is_fraud', orient='h') \n",
    "plt.title('ERC20_most_rec_token_type')"
   ]
  },
  {
   "cell_type": "markdown",
   "metadata": {},
   "source": [
    "Ze względu na dużą liczbę braków w 'ERC20_most_rec_token_type', postanowiono, aby nie uzupełniać braków najczęściej występującym tokenem. Przestępstwa w przypadku wierszy z brakami danych występują stosunkowo częściej niż dla OmiseGO, więc połączenie tych dwóch kategorii nie byłoby dobrym pomysłem.\n",
    "\n",
    "Ważne jest jednak, aby uwzględnić tokeny, które wiążą się z wyższym ryzykiem oszustwa. W związku z tym utworzono dla danych tekstowych po dwie nowe zmienne:\n",
    "- prawdopodobieństwo oszustwa (fraud_prob): liczba wystąpień słowa w oszustwach podzielona przez liczbę wszystkich oszustw\n",
    "- odstetek oszustw wśród wystąpień danego słowa (fraud_per_occur): liczba wystąpień słowa w oszustwach podzielona przez liczbę wszystkich wystąpień tego słowa"
   ]
  },
  {
   "cell_type": "code",
   "execution_count": 744,
   "metadata": {},
   "outputs": [
    {
     "data": {
      "text/plain": [
       "0.8407012195121951"
      ]
     },
     "execution_count": 744,
     "metadata": {},
     "output_type": "execute_result"
    }
   ],
   "source": [
    "# Braki w kolumnie 'ERC20 most sent token type'\n",
    "X_train_text.iloc[:, -2].str.contains('None').sum()/X_train_text.shape[0]"
   ]
  },
  {
   "cell_type": "markdown",
   "metadata": {},
   "source": [
    "Aż 84% danych w kolumnie 'ERC20 most sent token type' to wartości brakujące. Analogicznie przedstawiono liczbę wystąpień różnych tokenów ze względu na klasę i dodano nowe zmienne."
   ]
  },
  {
   "cell_type": "code",
   "execution_count": 745,
   "metadata": {},
   "outputs": [],
   "source": [
    "data_2 = X_train_text[y_train['FLAG']==0]['ERC20 most sent token type']\n",
    "data_3 = X_train_text[y_train['FLAG']==1]['ERC20 most sent token type']"
   ]
  },
  {
   "cell_type": "code",
   "execution_count": 746,
   "metadata": {},
   "outputs": [],
   "source": [
    "word_freq_2 = data_2.str.split(expand=True).stack().value_counts()\n",
    "word_freq_3 = data_3.str.split(expand=True).stack().value_counts()\n",
    "word_freq_sum_2 = X_train_text['ERC20 most sent token type'].str.split(expand=True).stack().value_counts()\n",
    "\n",
    "word_freq_df2 = pd.DataFrame({'not_fraud_prob_sent': word_freq_2/data_2.shape[0], 'fraud_prob_sent': word_freq_3/data_3.shape[0], 'fraud_per_occurence_sent': word_freq_3/word_freq_sum_2}).fillna(0)\n",
    "\n",
    "word_freq_df2 = word_freq_df2.sort_values(by='not_fraud_prob_sent', ascending=False)\n",
    "\n",
    "top_20_words2 = word_freq_df2.head(20)\n",
    "data2=top_20_words2.reset_index()"
   ]
  },
  {
   "cell_type": "code",
   "execution_count": 747,
   "metadata": {},
   "outputs": [],
   "source": [
    "transformed_df2 = pd.melt(data2, id_vars=['index'], var_name='is_fraud', value_name='value')\n",
    "transformed_df2['is_fraud'] = transformed_df2['is_fraud'].map({'not_fraud_prob_sent': 0, 'fraud_prob_sent': 1})"
   ]
  },
  {
   "cell_type": "code",
   "execution_count": 748,
   "metadata": {},
   "outputs": [
    {
     "data": {
      "text/plain": [
       "Text(0.5, 1.0, 'ERC20 most sent token type')"
      ]
     },
     "execution_count": 748,
     "metadata": {},
     "output_type": "execute_result"
    },
    {
     "data": {
      "image/png": "[encoded data removed]",
      "text/plain": [
       "<Figure size 720x432 with 1 Axes>"
      ]
     },
     "metadata": {},
     "output_type": "display_data"
    }
   ],
   "source": [
    "plt.figure(figsize=(10, 6))\n",
    "sns.barplot(data=transformed_df2, y='index', x='value', hue='is_fraud', orient='h') \n",
    "plt.title('ERC20 most sent token type')"
   ]
  },
  {
   "cell_type": "markdown",
   "metadata": {},
   "source": [
    "Zdecydowana większość oszustw nie ma podanej wartości zmiennej 'ERC20 most sent token type'."
   ]
  },
  {
   "cell_type": "markdown",
   "metadata": {},
   "source": [
    "#### Numeric data processing"
   ]
  },
  {
   "cell_type": "code",
   "execution_count": 749,
   "metadata": {},
   "outputs": [],
   "source": [
    "#Uzupełnienie brakujących wartości za pomocą metody K najblższych sąsiadów\n",
    "imputer = KNNImputer(n_neighbors=3)\n",
    "X_cols=X_train_num.columns\n",
    "\n",
    "X_train_num_imp = imputer.fit_transform(X_train_num)\n",
    "X_test_num_imp = imputer.transform(X_test_num)\n",
    "\n",
    "X_train_num_df = pd.DataFrame(X_train_num_imp, columns=X_cols)\n",
    "X_test_num_df = pd.DataFrame(X_test_num_imp, columns=X_cols)"
   ]
  },
  {
   "cell_type": "code",
   "execution_count": 750,
   "metadata": {},
   "outputs": [],
   "source": [
    "#Standaryzacja uzupełnionych danych\n",
    "scaler = StandardScaler()\n",
    "scaled_train_data = scaler.fit_transform(X_train_num_imp)\n",
    "scaled_train_df = pd.DataFrame(scaled_train_data, columns=X_cols)\n",
    "\n",
    "scaled_test_data = scaler.transform(X_test_num_imp)\n",
    "scaled_test_df = pd.DataFrame(scaled_test_data, columns=X_cols)"
   ]
  },
  {
   "cell_type": "markdown",
   "metadata": {},
   "source": [
    "#### Dodanie nowych zmiennych\n"
   ]
  },
  {
   "cell_type": "code",
   "execution_count": 751,
   "metadata": {},
   "outputs": [],
   "source": [
    "new_columns = pd.merge(X_train_text, \n",
    "                       word_freq_df[['fraud_prob_rec', 'fraud_per_occurence_rec']], \n",
    "                       how='left', \n",
    "                       left_on='ERC20_most_rec_token_type', \n",
    "                       right_on=word_freq_df.index).fillna(0)\n",
    "\n",
    "new_columns2 = pd.merge(new_columns, \n",
    "                       word_freq_df2[['fraud_prob_sent', 'fraud_per_occurence_sent']], \n",
    "                       how='left', \n",
    "                       left_on='ERC20 most sent token type', \n",
    "                       right_on=word_freq_df2.index).fillna(0)\n",
    "new_columns3=new_columns2.iloc[:, 2:]         \n",
    "\n",
    "new_columns_test = pd.merge(X_test_text, \n",
    "                       word_freq_df[['fraud_prob_rec', 'fraud_per_occurence_rec']], \n",
    "                       how='left', \n",
    "                       left_on='ERC20_most_rec_token_type', \n",
    "                       right_on=word_freq_df.index).fillna(0)\n",
    "\n",
    "new_columns2_test = pd.merge(new_columns_test, \n",
    "                       word_freq_df2[['fraud_prob_sent', 'fraud_per_occurence_sent']], \n",
    "                       how='left', \n",
    "                       left_on='ERC20 most sent token type', \n",
    "                       right_on=word_freq_df2.index).fillna(0)\n",
    "new_columns3_test=new_columns2_test.iloc[:, 2:]  "
   ]
  },
  {
   "cell_type": "code",
   "execution_count": 752,
   "metadata": {},
   "outputs": [],
   "source": [
    "#Złączenie danych zestandaryzowanych z nowo utworzonymi zmiennymi\n",
    "combined_X_train_data_std = pd.concat([scaled_train_df, new_columns3], axis=1)\n",
    "combined_X_test_data_std= pd.concat([scaled_test_df, new_columns3_test], axis=1)"
   ]
  },
  {
   "cell_type": "markdown",
   "metadata": {},
   "source": [
    "#### Boxploty dla wszystkich zmiennych"
   ]
  },
  {
   "cell_type": "code",
   "execution_count": 753,
   "metadata": {},
   "outputs": [],
   "source": [
    "scaled_train_df2=pd.concat([y_data, combined_X_train_data_std], axis=1)\n",
    "fig = px.box(scaled_train_df2, color=\"FLAG\")\n",
    "fig.update_layout(xaxis_title=\"Nr zmiennej\",\n",
    "                  yaxis_title=\"Wartość zestandaryzowana\")\n",
    "fig.write_html(\"boxplot_alldata.html\") \n",
    "#ze względu na wielkość, wykres należy pobrać i otworzyć w przeglądarce, ponieważ w notebooku jest mało czytelny"
   ]
  },
  {
   "cell_type": "markdown",
   "metadata": {},
   "source": [
    "Na podstawie boxplotów, możemy zauważyć, że jest bardzo dużo wartości odstających. Zdecydowano jednak, aby ich nie usuwać, ponieważ znacznie zmniejszyłoby to zbiór danych. Ponadto, skoro charakterystyka zmiennych treningowych pokazuje, że mają one tak dużą zmienność, to dane testowe najprawdopodobniej też będą się tym charakteryzować."
   ]
  },
  {
   "cell_type": "markdown",
   "metadata": {},
   "source": [
    "Najbardziej istotną zmienną jest 'ERC20_most_rec_token_type', mimo że ma ona dużo brakujących wartości. Poniżej sprawdzono, jaki jest stosunek wystąpień poszczególnych słów w tej kolumnie, w zależności od klasy."
   ]
  },
  {
   "cell_type": "markdown",
   "metadata": {},
   "source": [
    "### Klasyfikacja bez resamplingu"
   ]
  },
  {
   "cell_type": "code",
   "execution_count": 754,
   "metadata": {},
   "outputs": [
    {
     "name": "stderr",
     "output_type": "stream",
     "text": [
      "C:\\Users\\dorot\\AppData\\Local\\Temp\\ipykernel_23808\\1469392808.py:30: FutureWarning:\n",
      "\n",
      "The behavior of DataFrame concatenation with empty or all-NA entries is deprecated. In a future version, this will no longer exclude empty or all-NA columns when determining the result dtypes. To retain the old behavior, exclude the relevant entries before the concat operation.\n",
      "\n"
     ]
    }
   ],
   "source": [
    "A=3\n",
    "B=1\n",
    "weights={ 0: B, 1: A}\n",
    "\n",
    "models = {\n",
    "    'RandomForest': RandomForestClassifier(n_estimators= 100, min_samples_split= 5, min_samples_leaf= 1),\n",
    "    'XGBoost': xgb.XGBClassifier(),\n",
    "    'KNN5': KNeighborsClassifier(n_neighbors=5),\n",
    "    'KNN7': KNeighborsClassifier(n_neighbors=7),\n",
    "    'LogisticRegression': LogisticRegression(),\n",
    "    'LogisticRegression_weigths': LogisticRegression(solver='lbfgs', class_weight=weights),\n",
    "    'SVM': SVC()\n",
    "}\n",
    "\n",
    "results = pd.DataFrame(columns=['Model', 'ROC-AUC', 'Czas wykonywania'])\n",
    "\n",
    "for model_name, model in models.items():\n",
    "\n",
    "        start=time.time()\n",
    "        cv = RepeatedStratifiedKFold(n_splits=10, n_repeats=3, random_state=1)\n",
    "        scores = cross_val_score(model, scaled_train_df,  y_train, scoring='roc_auc', cv=cv, n_jobs=-1)\n",
    "        czas=time.time()-start\n",
    "\n",
    "        result_row ={\n",
    "            'Model': model_name,\n",
    "            'ROC-AUC': np.mean(scores),\n",
    "            'Czas wykonywania': czas\n",
    "        }\n",
    "\n",
    "        results=pd.concat([results, pd.DataFrame([result_row])], ignore_index=True)"
   ]
  },
  {
   "cell_type": "code",
   "execution_count": 755,
   "metadata": {},
   "outputs": [
    {
     "data": {
      "text/html": [
       "<div>\n",
       "<style scoped>\n",
       "    .dataframe tbody tr th:only-of-type {\n",
       "        vertical-align: middle;\n",
       "    }\n",
       "\n",
       "    .dataframe tbody tr th {\n",
       "        vertical-align: top;\n",
       "    }\n",
       "\n",
       "    .dataframe thead th {\n",
       "        text-align: right;\n",
       "    }\n",
       "</style>\n",
       "<table border=\"1\" class=\"dataframe\">\n",
       "  <thead>\n",
       "    <tr style=\"text-align: right;\">\n",
       "      <th></th>\n",
       "      <th>Model</th>\n",
       "      <th>ROC-AUC</th>\n",
       "      <th>Czas wykonywania</th>\n",
       "    </tr>\n",
       "  </thead>\n",
       "  <tbody>\n",
       "    <tr>\n",
       "      <th>0</th>\n",
       "      <td>RandomForest</td>\n",
       "      <td>0.990506</td>\n",
       "      <td>7.143936</td>\n",
       "    </tr>\n",
       "    <tr>\n",
       "      <th>1</th>\n",
       "      <td>XGBoost</td>\n",
       "      <td>0.994728</td>\n",
       "      <td>2.232624</td>\n",
       "    </tr>\n",
       "    <tr>\n",
       "      <th>2</th>\n",
       "      <td>KNN5</td>\n",
       "      <td>0.949778</td>\n",
       "      <td>0.585090</td>\n",
       "    </tr>\n",
       "    <tr>\n",
       "      <th>3</th>\n",
       "      <td>KNN7</td>\n",
       "      <td>0.952393</td>\n",
       "      <td>0.551738</td>\n",
       "    </tr>\n",
       "    <tr>\n",
       "      <th>4</th>\n",
       "      <td>LogisticRegression</td>\n",
       "      <td>0.849501</td>\n",
       "      <td>1.011116</td>\n",
       "    </tr>\n",
       "    <tr>\n",
       "      <th>5</th>\n",
       "      <td>LogisticRegression_weigths</td>\n",
       "      <td>0.849178</td>\n",
       "      <td>0.995188</td>\n",
       "    </tr>\n",
       "    <tr>\n",
       "      <th>6</th>\n",
       "      <td>SVM</td>\n",
       "      <td>0.909402</td>\n",
       "      <td>14.986675</td>\n",
       "    </tr>\n",
       "  </tbody>\n",
       "</table>\n",
       "</div>"
      ],
      "text/plain": [
       "                        Model   ROC-AUC  Czas wykonywania\n",
       "0                RandomForest  0.990506          7.143936\n",
       "1                     XGBoost  0.994728          2.232624\n",
       "2                        KNN5  0.949778          0.585090\n",
       "3                        KNN7  0.952393          0.551738\n",
       "4          LogisticRegression  0.849501          1.011116\n",
       "5  LogisticRegression_weigths  0.849178          0.995188\n",
       "6                         SVM  0.909402         14.986675"
      ]
     },
     "execution_count": 755,
     "metadata": {},
     "output_type": "execute_result"
    }
   ],
   "source": [
    "results"
   ]
  },
  {
   "cell_type": "markdown",
   "metadata": {},
   "source": [
    "### XGBoost"
   ]
  },
  {
   "cell_type": "code",
   "execution_count": 756,
   "metadata": {},
   "outputs": [
    {
     "data": {
      "image/png": "[encoded data removed]",
      "text/plain": [
       "<Figure size 576x432 with 2 Axes>"
      ]
     },
     "metadata": {},
     "output_type": "display_data"
    },
    {
     "name": "stdout",
     "output_type": "stream",
     "text": [
      "              precision    recall  f1-score   support\n",
      "\n",
      "           0       0.98      0.99      0.99      1542\n",
      "           1       0.97      0.94      0.95       427\n",
      "\n",
      "    accuracy                           0.98      1969\n",
      "   macro avg       0.98      0.96      0.97      1969\n",
      "weighted avg       0.98      0.98      0.98      1969\n",
      "\n"
     ]
    }
   ],
   "source": [
    "clf = xgb.XGBClassifier(tree_method=\"hist\", enable_categorical=True) #użycie \"enable_categorical\" powoduje, że nie trzeba robić samodzielnie one hot encodingu\n",
    "\n",
    "clf.fit(combined_X_train_data_std, y_train)\n",
    "y_pred = clf.predict(combined_X_test_data_std)\n",
    "cm_results(y_test, y_pred)"
   ]
  },
  {
   "cell_type": "markdown",
   "metadata": {},
   "source": [
    "27 razy nie wykryto przestępstwa. W dalszej części sprawdzono, jakie zmienne były istotne w modelu."
   ]
  },
  {
   "cell_type": "code",
   "execution_count": 757,
   "metadata": {},
   "outputs": [
    {
     "data": {
      "image/png": "[encoded data removed]",
      "text/plain": [
       "<Figure size 1440x432 with 1 Axes>"
      ]
     },
     "metadata": {},
     "output_type": "display_data"
    }
   ],
   "source": [
    "model=clf\n",
    "importance = model.feature_importances_\n",
    "\n",
    "feature_names = combined_X_train_data_std.columns\n",
    "feature_importance_df = pd.DataFrame({'Feature': feature_names, 'Importance': importance})\n",
    "feature_importance_df = feature_importance_df.sort_values(by='Importance', ascending=False)\n",
    "\n",
    "plt.figure(figsize=(20, 6))\n",
    "plt.barh(feature_importance_df['Feature'][:20], feature_importance_df['Importance'][:20])\n",
    "plt.xlabel('Importance')\n",
    "plt.ylabel('Feature')\n",
    "plt.title('Feature Importance')\n",
    "plt.show()"
   ]
  },
  {
   "cell_type": "markdown",
   "metadata": {},
   "source": [
    "### Klasyfikacja na podstawie zmiennych z PCA bez resamplingu"
   ]
  },
  {
   "cell_type": "code",
   "execution_count": 758,
   "metadata": {},
   "outputs": [
    {
     "name": "stdout",
     "output_type": "stream",
     "text": [
      "Liczba: 25\n",
      "Procent wariancji: 0.9826820554305195\n"
     ]
    }
   ],
   "source": [
    "pca = PCA(n_components=0.98)\n",
    "X_train_pca = pca.fit_transform(combined_X_train_data_std)\n",
    "X_test_pca = pca.transform(combined_X_test_data_std)\n",
    "\n",
    "print(\"Liczba:\", pca.n_components_)\n",
    "print(\"Procent wariancji:\", np.sum(pca.explained_variance_ratio_))"
   ]
  },
  {
   "cell_type": "markdown",
   "metadata": {},
   "source": [
    "Możemy zmniejszyć liczbę zmiennych z 45 do 24 zachowując przy tym 98% wariancji."
   ]
  },
  {
   "cell_type": "code",
   "execution_count": 759,
   "metadata": {},
   "outputs": [
    {
     "data": {
      "image/png": "[encoded data removed]",
      "text/plain": [
       "<Figure size 576x432 with 2 Axes>"
      ]
     },
     "metadata": {},
     "output_type": "display_data"
    },
    {
     "name": "stdout",
     "output_type": "stream",
     "text": [
      "              precision    recall  f1-score   support\n",
      "\n",
      "           0       0.97      0.99      0.98      1542\n",
      "           1       0.94      0.89      0.91       427\n",
      "\n",
      "    accuracy                           0.96      1969\n",
      "   macro avg       0.96      0.94      0.95      1969\n",
      "weighted avg       0.96      0.96      0.96      1969\n",
      "\n"
     ]
    }
   ],
   "source": [
    "model_xgb = xgb.XGBClassifier(tree_method=\"hist\", enable_categorical=True)\n",
    "model_xgb.fit(X_train_pca,  y_train)\n",
    "y_pred=model_xgb.predict(X_test_pca)\n",
    "cm_results(y_test, y_pred)"
   ]
  },
  {
   "cell_type": "markdown",
   "metadata": {},
   "source": [
    "Ze względu na częściową utatę danych, to liczba FP i FN trochę się pogorszyła."
   ]
  },
  {
   "cell_type": "markdown",
   "metadata": {},
   "source": [
    "### Klasyfikacja na podstawie kolumn numerycznych z resamplingiem"
   ]
  },
  {
   "cell_type": "markdown",
   "metadata": {},
   "source": [
    "#### Resampling"
   ]
  },
  {
   "cell_type": "code",
   "execution_count": 760,
   "metadata": {},
   "outputs": [
    {
     "data": {
      "text/plain": [
       "FLAG\n",
       "0       6120\n",
       "1       1752\n",
       "Name: count, dtype: int64"
      ]
     },
     "execution_count": 760,
     "metadata": {},
     "output_type": "execute_result"
    }
   ],
   "source": [
    "y_train.value_counts()"
   ]
  },
  {
   "cell_type": "code",
   "execution_count": 761,
   "metadata": {},
   "outputs": [
    {
     "data": {
      "text/plain": [
       "FLAG\n",
       "0       6120\n",
       "1       2448\n",
       "Name: count, dtype: int64"
      ]
     },
     "execution_count": 761,
     "metadata": {},
     "output_type": "execute_result"
    }
   ],
   "source": [
    "#Dodatkowe wiersze\n",
    "smote = SMOTE(random_state=42, sampling_strategy=0.4)\n",
    "X_smote, y_smote = smote.fit_resample(combined_X_train_data_std, y_train)\n",
    "y_smote.value_counts()"
   ]
  },
  {
   "cell_type": "code",
   "execution_count": 762,
   "metadata": {},
   "outputs": [
    {
     "name": "stdout",
     "output_type": "stream",
     "text": [
      "FLAG\n",
      "0       4080\n",
      "1       2448\n",
      "Name: count, dtype: int64\n"
     ]
    }
   ],
   "source": [
    "#UnderSampling\n",
    "rus=RandomUnderSampler(sampling_strategy=0.6, random_state=42)\n",
    "X_resampled, y_resampled =rus.fit_resample(X_smote, y_smote)\n",
    "print(y_resampled .value_counts())"
   ]
  },
  {
   "cell_type": "code",
   "execution_count": 763,
   "metadata": {},
   "outputs": [
    {
     "data": {
      "image/png": "[encoded data removed]",
      "text/plain": [
       "<Figure size 576x432 with 2 Axes>"
      ]
     },
     "metadata": {},
     "output_type": "display_data"
    },
    {
     "name": "stdout",
     "output_type": "stream",
     "text": [
      "              precision    recall  f1-score   support\n",
      "\n",
      "           0       0.98      0.99      0.99      1542\n",
      "           1       0.96      0.94      0.95       427\n",
      "\n",
      "    accuracy                           0.98      1969\n",
      "   macro avg       0.97      0.97      0.97      1969\n",
      "weighted avg       0.98      0.98      0.98      1969\n",
      "\n"
     ]
    }
   ],
   "source": [
    "clf = xgb.XGBClassifier(tree_method=\"hist\", enable_categorical=True)\n",
    "clf.fit(X_resampled, y_resampled)\n",
    "y_pred = clf.predict(combined_X_test_data_std)\n",
    "cm_results(y_test, y_pred)"
   ]
  },
  {
   "cell_type": "markdown",
   "metadata": {},
   "source": [
    "Resampling dla danych numerycznych pozwolił zmniejszyć liczbę FN, ale macierz pomyłek jest gorsza niż w przypadku modelu XGBoost wytrenowanemu na całych danych. Jednak z uwagi na bardzo duże braki w danych tekstowych, wybrano model opierający się jedynie na danych numerycznych. W ten sposób unikamy sytuacji, w której brak danych tekstowych zwiększa prawdopodobieństwo, że przestępstwo nie wystąpiło."
   ]
  }
 ],
 "metadata": {
  "kernelspec": {
   "display_name": "Python 3",
   "language": "python",
   "name": "python3"
  },
  "language_info": {
   "codemirror_mode": {
    "name": "ipython",
    "version": 3
   },
   "file_extension": ".py",
   "mimetype": "text/x-python",
   "name": "python",
   "nbconvert_exporter": "python",
   "pygments_lexer": "ipython3",
   "version": "3.9.8"
  }
 },
 "nbformat": 4,
 "nbformat_minor": 2
}
